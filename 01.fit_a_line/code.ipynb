{
 "cells": [
  {
   "cell_type": "code",
   "execution_count": 1,
   "metadata": {},
   "outputs": [
    {
     "data": {
      "text/plain": [
       "<Figure size 640x480 with 1 Axes>"
      ]
     },
     "metadata": {},
     "output_type": "display_data"
    }
   ],
   "source": [
    "#coding:utf-8\n",
    "import os\n",
    "import paddle.v2 as paddle\n",
    "import paddle.v2.dataset.uci_housing as uci_housing\n",
    "\n",
    "with_gpu = os.getenv('WITH_GPU', '0') != '0'\n",
    "\n",
    "paddle.init(use_gpu=False, trainer_count=1)\n",
    "\n",
    "x = paddle.layer.data(name='x', type=paddle.data_type.dense_vector(13))\n",
    "# 激活函数 使用 Linear() 线性回归 对 y_predict 进行预测\n",
    "y_predict = paddle.layer.fc(input=x,\n",
    "                                size=1,\n",
    "                                act=paddle.activation.Linear())\n",
    "# 取 1 个值作为真实数据的 标签 y\n",
    "y = paddle.layer.data(name='y', type=paddle.data_type.dense_vector(1))\n",
    "# 使用均方根误差 计算 真实值 y 和预测值 y_predict 之间的损失函数\n",
    "cost = paddle.layer.square_error_cost(input=y_predict, label=y)\n",
    "\n",
    "# Save the inference topology to protobuf.\n",
    "inference_topology = paddle.topology.Topology(layers=y_predict)\n",
    "with open(\"inference_topology.pkl\", 'wb') as f:\n",
    "    inference_topology.serialize_for_inference(f)\n",
    "    \n",
    "parameters = paddle.parameters.create(cost)\n",
    "\n",
    "# create optimizer 优化函数 使用 Momentum 函数\n",
    "optimizer = paddle.optimizer.Momentum(momentum=0)\n",
    "# SGD 随机梯度下降\n",
    "trainer = paddle.trainer.SGD(cost=cost,\n",
    "                             parameters=parameters,\n",
    "                             update_equation=optimizer)\n",
    "feeding={'x': 0, 'y': 1}\n",
    "\n",
    "# event_handler to print training and testing info\n",
    "def event_handler(event):\n",
    "    if isinstance(event, paddle.event.EndIteration):\n",
    "        if event.batch_id % 100 == 0:\n",
    "            print \"Pass %d, Batch %d, Cost %f\" % (\n",
    "                event.pass_id, event.batch_id, event.cost)\n",
    "\n",
    "    if isinstance(event, paddle.event.EndPass):\n",
    "        result = trainer.test(\n",
    "            reader=paddle.batch(\n",
    "                uci_housing.test(), batch_size=2),\n",
    "            feeding=feeding)\n",
    "        print \"Test %d, Cost %f\" % (event.pass_id, result.cost)\n",
    "        \n",
    "# event_handler to print training and testing info\n",
    "from paddle.v2.plot import Ploter\n",
    "\n",
    "train_title = \"Train cost\"\n",
    "test_title = \"Test cost\"\n",
    "cost_ploter = Ploter(train_title, test_title)\n",
    "\n",
    "step = 0\n",
    "\n",
    "def event_handler_plot(event):\n",
    "    global step\n",
    "    if isinstance(event, paddle.event.EndIteration):\n",
    "        if step % 10 == 0:  # every 10 batches, record a train cost\n",
    "            cost_ploter.append(train_title, step, event.cost)\n",
    "\n",
    "        if step % 100 == 0: # every 100 batches, record a test cost\n",
    "            result = trainer.test(\n",
    "                reader=paddle.batch(\n",
    "                    uci_housing.test(), batch_size=2),\n",
    "                feeding=feeding)\n",
    "            cost_ploter.append(test_title, step, result.cost)\n",
    "\n",
    "        if step % 100 == 0: # every 100 batches, update cost plot\n",
    "            cost_ploter.plot()\n",
    "\n",
    "        step += 1\n",
    "\n",
    "    if isinstance(event, paddle.event.EndPass):\n",
    "        if event.pass_id % 10 == 0:\n",
    "            with open('params_pass_%d.tar' % event.pass_id, 'w') as f:\n",
    "                trainer.save_parameter_to_tar(f)\n",
    "                \n",
    "trainer.train(\n",
    "    reader=paddle.batch(\n",
    "        paddle.reader.shuffle(\n",
    "            uci_housing.train(), buf_size=500),\n",
    "        batch_size=2),\n",
    "    feeding=feeding,\n",
    "    event_handler=event_handler_plot,\n",
    "    num_passes=30)\n",
    "\n",
    "\n"
   ]
  },
  {
   "cell_type": "code",
   "execution_count": 2,
   "metadata": {},
   "outputs": [
    {
     "name": "stdout",
     "output_type": "stream",
     "text": [
      "label=8.5, predict=11.759925\n",
      "label=5.0, predict=13.693929\n",
      "label=11.9, predict=10.746819\n",
      "label=27.9, predict=18.077393\n",
      "label=17.2, predict=13.033212\n"
     ]
    }
   ],
   "source": [
    "test_data_creator = paddle.dataset.uci_housing.test()\n",
    "test_data = []\n",
    "test_label = []\n",
    "\n",
    "for item in test_data_creator():\n",
    "    test_data.append((item[0],))\n",
    "    test_label.append(item[1])\n",
    "    if len(test_data) == 5:\n",
    "        break\n",
    "        \n",
    "        \n",
    "probs = paddle.infer(\n",
    "    output_layer=y_predict, parameters=parameters, input=test_data)\n",
    "\n",
    "for i in xrange(len(probs)):\n",
    "    print \"label=\" + str(test_label[i][0]) + \", predict=\" + str(probs[i][0])\n",
    "    \n",
    "    "
   ]
  },
  {
   "cell_type": "code",
   "execution_count": null,
   "metadata": {},
   "outputs": [],
   "source": []
  }
 ],
 "metadata": {
  "kernelspec": {
   "display_name": "Python 3",
   "language": "python",
   "name": "python3"
  },
  "language_info": {
   "codemirror_mode": {
    "name": "ipython",
    "version": 3
   },
   "file_extension": ".py",
   "mimetype": "text/x-python",
   "name": "python",
   "nbconvert_exporter": "python",
   "pygments_lexer": "ipython3",
   "version": "3.6.2"
  }
 },
 "nbformat": 4,
 "nbformat_minor": 2
}
